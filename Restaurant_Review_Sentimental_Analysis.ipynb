{
  "nbformat": 4,
  "nbformat_minor": 0,
  "metadata": {
    "colab": {
      "provenance": [],
      "include_colab_link": true
    },
    "kernelspec": {
      "name": "python3",
      "display_name": "Python 3"
    },
    "language_info": {
      "name": "python"
    }
  },
  "cells": [
    {
      "cell_type": "markdown",
      "metadata": {
        "id": "view-in-github",
        "colab_type": "text"
      },
      "source": [
        "<a href=\"https://colab.research.google.com/github/Vaibhav12301/Restaurant_Review_Sentimental-Analysis/blob/main/Restaurant_Review_Sentimental_Analysis.ipynb\" target=\"_parent\"><img src=\"https://colab.research.google.com/assets/colab-badge.svg\" alt=\"Open In Colab\"/></a>"
      ]
    },
    {
      "cell_type": "code",
      "execution_count": null,
      "metadata": {
        "id": "ApeIsgrJv_24",
        "colab": {
          "base_uri": "https://localhost:8080/"
        },
        "outputId": "b9930930-43f8-4634-868f-eca47366dc7a"
      },
      "outputs": [
        {
          "output_type": "stream",
          "name": "stderr",
          "text": [
            "[nltk_data] Downloading package stopwords to /root/nltk_data...\n",
            "[nltk_data]   Package stopwords is already up-to-date!\n",
            "[nltk_data] Downloading package punkt to /root/nltk_data...\n",
            "[nltk_data]   Package punkt is already up-to-date!\n",
            "[nltk_data] Downloading package wordnet to /root/nltk_data...\n",
            "[nltk_data]   Package wordnet is already up-to-date!\n",
            "[nltk_data] Downloading package omw-1.4 to /root/nltk_data...\n",
            "[nltk_data]   Package omw-1.4 is already up-to-date!\n",
            "[nltk_data] Downloading package averaged_perceptron_tagger to\n",
            "[nltk_data]     /root/nltk_data...\n",
            "[nltk_data]   Package averaged_perceptron_tagger is already up-to-\n",
            "[nltk_data]       date!\n"
          ]
        },
        {
          "output_type": "execute_result",
          "data": {
            "text/plain": [
              "True"
            ]
          },
          "metadata": {},
          "execution_count": 5
        }
      ],
      "source": [
        "import pandas as pd\n",
        "import numpy as np\n",
        "import matplotlib.pyplot as plt\n",
        "import seaborn as sns\n",
        "from sklearn.feature_extraction.text import CountVectorizer\n",
        "from sklearn.feature_extraction.text import TfidfVectorizer\n",
        "from sklearn.linear_model import LogisticRegression\n",
        "from sklearn.model_selection import train_test_split\n",
        "from sklearn.dummy import DummyClassifier\n",
        "from string import punctuation\n",
        "from sklearn import svm\n",
        "from nltk.corpus import stopwords\n",
        "from nltk.stem import WordNetLemmatizer\n",
        "import nltk\n",
        "from nltk import ngrams\n",
        "from itertools import chain\n",
        "from wordcloud import WordCloud\n",
        "nltk.download('stopwords')\n",
        "nltk.download('punkt')\n",
        "nltk.download('wordnet')\n",
        "nltk.download('omw-1.4')\n",
        "nltk.download('averaged_perceptron_tagger')"
      ]
    },
    {
      "cell_type": "code",
      "source": [
        "from google.colab import drive\n",
        "drive.mount('/content/drive')"
      ],
      "metadata": {
        "id": "A11z2fgI5AZX",
        "colab": {
          "base_uri": "https://localhost:8080/"
        },
        "outputId": "6c221395-7d8d-4678-cd2b-a3d25b7b3c5b"
      },
      "execution_count": null,
      "outputs": [
        {
          "output_type": "stream",
          "name": "stdout",
          "text": [
            "Drive already mounted at /content/drive; to attempt to forcibly remount, call drive.mount(\"/content/drive\", force_remount=True).\n"
          ]
        }
      ]
    },
    {
      "cell_type": "code",
      "source": [
        "odf = pd.read_csv('/content/drive/MyDrive/Reviews.csv')\n",
        "odf['Helpful %'] = np.where(odf['HelpfulnessDenominator'] > 0, odf['HelpfulnessNumerator'] / odf['HelpfulnessDenominator'], -1)\n",
        "odf['% Upvote'] = pd.cut(odf['Helpful %'], bins = [-1, 0, 0.2, 0.4, 0.6, 0.8, 1.0], labels = ['Empty', '0-20%', '20-40%', '40-60%', '60-80%', '80-100%'], include_lowest = True)\n",
        "odf.head()"
      ],
      "metadata": {
        "id": "WYFDpF7N41VN",
        "outputId": "7ca63f5c-4ea8-422f-a6e3-5b8f9a69f0dc",
        "colab": {
          "base_uri": "https://localhost:8080/",
          "height": 605
        }
      },
      "execution_count": null,
      "outputs": [
        {
          "output_type": "execute_result",
          "data": {
            "text/plain": [
              "   Id   ProductId          UserId                      ProfileName  \\\n",
              "0   1  B001E4KFG0  A3SGXH7AUHU8GW                       delmartian   \n",
              "1   2  B00813GRG4  A1D87F6ZCVE5NK                           dll pa   \n",
              "2   3  B000LQOCH0   ABXLMWJIXXAIN  Natalia Corres \"Natalia Corres\"   \n",
              "3   4  B000UA0QIQ  A395BORC6FGVXV                             Karl   \n",
              "4   5  B006K2ZZ7K  A1UQRSCLF8GW1T    Michael D. Bigham \"M. Wassir\"   \n",
              "\n",
              "   HelpfulnessNumerator  HelpfulnessDenominator  Score        Time  \\\n",
              "0                     1                       1      5  1303862400   \n",
              "1                     0                       0      1  1346976000   \n",
              "2                     1                       1      4  1219017600   \n",
              "3                     3                       3      2  1307923200   \n",
              "4                     0                       0      5  1350777600   \n",
              "\n",
              "                 Summary                                               Text  \\\n",
              "0  Good Quality Dog Food  I have bought several of the Vitality canned d...   \n",
              "1      Not as Advertised  Product arrived labeled as Jumbo Salted Peanut...   \n",
              "2  \"Delight\" says it all  This is a confection that has been around a fe...   \n",
              "3         Cough Medicine  If you are looking for the secret ingredient i...   \n",
              "4            Great taffy  Great taffy at a great price.  There was a wid...   \n",
              "\n",
              "   Helpful % % Upvote  \n",
              "0        1.0  80-100%  \n",
              "1       -1.0    Empty  \n",
              "2        1.0  80-100%  \n",
              "3        1.0  80-100%  \n",
              "4       -1.0    Empty  "
            ],
            "text/html": [
              "\n",
              "  <div id=\"df-ac90d5c1-b123-4f73-83a3-db042bb9f7a4\" class=\"colab-df-container\">\n",
              "    <div>\n",
              "<style scoped>\n",
              "    .dataframe tbody tr th:only-of-type {\n",
              "        vertical-align: middle;\n",
              "    }\n",
              "\n",
              "    .dataframe tbody tr th {\n",
              "        vertical-align: top;\n",
              "    }\n",
              "\n",
              "    .dataframe thead th {\n",
              "        text-align: right;\n",
              "    }\n",
              "</style>\n",
              "<table border=\"1\" class=\"dataframe\">\n",
              "  <thead>\n",
              "    <tr style=\"text-align: right;\">\n",
              "      <th></th>\n",
              "      <th>Id</th>\n",
              "      <th>ProductId</th>\n",
              "      <th>UserId</th>\n",
              "      <th>ProfileName</th>\n",
              "      <th>HelpfulnessNumerator</th>\n",
              "      <th>HelpfulnessDenominator</th>\n",
              "      <th>Score</th>\n",
              "      <th>Time</th>\n",
              "      <th>Summary</th>\n",
              "      <th>Text</th>\n",
              "      <th>Helpful %</th>\n",
              "      <th>% Upvote</th>\n",
              "    </tr>\n",
              "  </thead>\n",
              "  <tbody>\n",
              "    <tr>\n",
              "      <th>0</th>\n",
              "      <td>1</td>\n",
              "      <td>B001E4KFG0</td>\n",
              "      <td>A3SGXH7AUHU8GW</td>\n",
              "      <td>delmartian</td>\n",
              "      <td>1</td>\n",
              "      <td>1</td>\n",
              "      <td>5</td>\n",
              "      <td>1303862400</td>\n",
              "      <td>Good Quality Dog Food</td>\n",
              "      <td>I have bought several of the Vitality canned d...</td>\n",
              "      <td>1.0</td>\n",
              "      <td>80-100%</td>\n",
              "    </tr>\n",
              "    <tr>\n",
              "      <th>1</th>\n",
              "      <td>2</td>\n",
              "      <td>B00813GRG4</td>\n",
              "      <td>A1D87F6ZCVE5NK</td>\n",
              "      <td>dll pa</td>\n",
              "      <td>0</td>\n",
              "      <td>0</td>\n",
              "      <td>1</td>\n",
              "      <td>1346976000</td>\n",
              "      <td>Not as Advertised</td>\n",
              "      <td>Product arrived labeled as Jumbo Salted Peanut...</td>\n",
              "      <td>-1.0</td>\n",
              "      <td>Empty</td>\n",
              "    </tr>\n",
              "    <tr>\n",
              "      <th>2</th>\n",
              "      <td>3</td>\n",
              "      <td>B000LQOCH0</td>\n",
              "      <td>ABXLMWJIXXAIN</td>\n",
              "      <td>Natalia Corres \"Natalia Corres\"</td>\n",
              "      <td>1</td>\n",
              "      <td>1</td>\n",
              "      <td>4</td>\n",
              "      <td>1219017600</td>\n",
              "      <td>\"Delight\" says it all</td>\n",
              "      <td>This is a confection that has been around a fe...</td>\n",
              "      <td>1.0</td>\n",
              "      <td>80-100%</td>\n",
              "    </tr>\n",
              "    <tr>\n",
              "      <th>3</th>\n",
              "      <td>4</td>\n",
              "      <td>B000UA0QIQ</td>\n",
              "      <td>A395BORC6FGVXV</td>\n",
              "      <td>Karl</td>\n",
              "      <td>3</td>\n",
              "      <td>3</td>\n",
              "      <td>2</td>\n",
              "      <td>1307923200</td>\n",
              "      <td>Cough Medicine</td>\n",
              "      <td>If you are looking for the secret ingredient i...</td>\n",
              "      <td>1.0</td>\n",
              "      <td>80-100%</td>\n",
              "    </tr>\n",
              "    <tr>\n",
              "      <th>4</th>\n",
              "      <td>5</td>\n",
              "      <td>B006K2ZZ7K</td>\n",
              "      <td>A1UQRSCLF8GW1T</td>\n",
              "      <td>Michael D. Bigham \"M. Wassir\"</td>\n",
              "      <td>0</td>\n",
              "      <td>0</td>\n",
              "      <td>5</td>\n",
              "      <td>1350777600</td>\n",
              "      <td>Great taffy</td>\n",
              "      <td>Great taffy at a great price.  There was a wid...</td>\n",
              "      <td>-1.0</td>\n",
              "      <td>Empty</td>\n",
              "    </tr>\n",
              "  </tbody>\n",
              "</table>\n",
              "</div>\n",
              "    <div class=\"colab-df-buttons\">\n",
              "\n",
              "  <div class=\"colab-df-container\">\n",
              "    <button class=\"colab-df-convert\" onclick=\"convertToInteractive('df-ac90d5c1-b123-4f73-83a3-db042bb9f7a4')\"\n",
              "            title=\"Convert this dataframe to an interactive table.\"\n",
              "            style=\"display:none;\">\n",
              "\n",
              "  <svg xmlns=\"http://www.w3.org/2000/svg\" height=\"24px\" viewBox=\"0 -960 960 960\">\n",
              "    <path d=\"M120-120v-720h720v720H120Zm60-500h600v-160H180v160Zm220 220h160v-160H400v160Zm0 220h160v-160H400v160ZM180-400h160v-160H180v160Zm440 0h160v-160H620v160ZM180-180h160v-160H180v160Zm440 0h160v-160H620v160Z\"/>\n",
              "  </svg>\n",
              "    </button>\n",
              "\n",
              "  <style>\n",
              "    .colab-df-container {\n",
              "      display:flex;\n",
              "      gap: 12px;\n",
              "    }\n",
              "\n",
              "    .colab-df-convert {\n",
              "      background-color: #E8F0FE;\n",
              "      border: none;\n",
              "      border-radius: 50%;\n",
              "      cursor: pointer;\n",
              "      display: none;\n",
              "      fill: #1967D2;\n",
              "      height: 32px;\n",
              "      padding: 0 0 0 0;\n",
              "      width: 32px;\n",
              "    }\n",
              "\n",
              "    .colab-df-convert:hover {\n",
              "      background-color: #E2EBFA;\n",
              "      box-shadow: 0px 1px 2px rgba(60, 64, 67, 0.3), 0px 1px 3px 1px rgba(60, 64, 67, 0.15);\n",
              "      fill: #174EA6;\n",
              "    }\n",
              "\n",
              "    .colab-df-buttons div {\n",
              "      margin-bottom: 4px;\n",
              "    }\n",
              "\n",
              "    [theme=dark] .colab-df-convert {\n",
              "      background-color: #3B4455;\n",
              "      fill: #D2E3FC;\n",
              "    }\n",
              "\n",
              "    [theme=dark] .colab-df-convert:hover {\n",
              "      background-color: #434B5C;\n",
              "      box-shadow: 0px 1px 3px 1px rgba(0, 0, 0, 0.15);\n",
              "      filter: drop-shadow(0px 1px 2px rgba(0, 0, 0, 0.3));\n",
              "      fill: #FFFFFF;\n",
              "    }\n",
              "  </style>\n",
              "\n",
              "    <script>\n",
              "      const buttonEl =\n",
              "        document.querySelector('#df-ac90d5c1-b123-4f73-83a3-db042bb9f7a4 button.colab-df-convert');\n",
              "      buttonEl.style.display =\n",
              "        google.colab.kernel.accessAllowed ? 'block' : 'none';\n",
              "\n",
              "      async function convertToInteractive(key) {\n",
              "        const element = document.querySelector('#df-ac90d5c1-b123-4f73-83a3-db042bb9f7a4');\n",
              "        const dataTable =\n",
              "          await google.colab.kernel.invokeFunction('convertToInteractive',\n",
              "                                                    [key], {});\n",
              "        if (!dataTable) return;\n",
              "\n",
              "        const docLinkHtml = 'Like what you see? Visit the ' +\n",
              "          '<a target=\"_blank\" href=https://colab.research.google.com/notebooks/data_table.ipynb>data table notebook</a>'\n",
              "          + ' to learn more about interactive tables.';\n",
              "        element.innerHTML = '';\n",
              "        dataTable['output_type'] = 'display_data';\n",
              "        await google.colab.output.renderOutput(dataTable, element);\n",
              "        const docLink = document.createElement('div');\n",
              "        docLink.innerHTML = docLinkHtml;\n",
              "        element.appendChild(docLink);\n",
              "      }\n",
              "    </script>\n",
              "  </div>\n",
              "\n",
              "\n",
              "<div id=\"df-0e2fe743-029c-4dd5-aa9f-0d7f01f3f5b2\">\n",
              "  <button class=\"colab-df-quickchart\" onclick=\"quickchart('df-0e2fe743-029c-4dd5-aa9f-0d7f01f3f5b2')\"\n",
              "            title=\"Suggest charts.\"\n",
              "            style=\"display:none;\">\n",
              "\n",
              "<svg xmlns=\"http://www.w3.org/2000/svg\" height=\"24px\"viewBox=\"0 0 24 24\"\n",
              "     width=\"24px\">\n",
              "    <g>\n",
              "        <path d=\"M19 3H5c-1.1 0-2 .9-2 2v14c0 1.1.9 2 2 2h14c1.1 0 2-.9 2-2V5c0-1.1-.9-2-2-2zM9 17H7v-7h2v7zm4 0h-2V7h2v10zm4 0h-2v-4h2v4z\"/>\n",
              "    </g>\n",
              "</svg>\n",
              "  </button>\n",
              "\n",
              "<style>\n",
              "  .colab-df-quickchart {\n",
              "      --bg-color: #E8F0FE;\n",
              "      --fill-color: #1967D2;\n",
              "      --hover-bg-color: #E2EBFA;\n",
              "      --hover-fill-color: #174EA6;\n",
              "      --disabled-fill-color: #AAA;\n",
              "      --disabled-bg-color: #DDD;\n",
              "  }\n",
              "\n",
              "  [theme=dark] .colab-df-quickchart {\n",
              "      --bg-color: #3B4455;\n",
              "      --fill-color: #D2E3FC;\n",
              "      --hover-bg-color: #434B5C;\n",
              "      --hover-fill-color: #FFFFFF;\n",
              "      --disabled-bg-color: #3B4455;\n",
              "      --disabled-fill-color: #666;\n",
              "  }\n",
              "\n",
              "  .colab-df-quickchart {\n",
              "    background-color: var(--bg-color);\n",
              "    border: none;\n",
              "    border-radius: 50%;\n",
              "    cursor: pointer;\n",
              "    display: none;\n",
              "    fill: var(--fill-color);\n",
              "    height: 32px;\n",
              "    padding: 0;\n",
              "    width: 32px;\n",
              "  }\n",
              "\n",
              "  .colab-df-quickchart:hover {\n",
              "    background-color: var(--hover-bg-color);\n",
              "    box-shadow: 0 1px 2px rgba(60, 64, 67, 0.3), 0 1px 3px 1px rgba(60, 64, 67, 0.15);\n",
              "    fill: var(--button-hover-fill-color);\n",
              "  }\n",
              "\n",
              "  .colab-df-quickchart-complete:disabled,\n",
              "  .colab-df-quickchart-complete:disabled:hover {\n",
              "    background-color: var(--disabled-bg-color);\n",
              "    fill: var(--disabled-fill-color);\n",
              "    box-shadow: none;\n",
              "  }\n",
              "\n",
              "  .colab-df-spinner {\n",
              "    border: 2px solid var(--fill-color);\n",
              "    border-color: transparent;\n",
              "    border-bottom-color: var(--fill-color);\n",
              "    animation:\n",
              "      spin 1s steps(1) infinite;\n",
              "  }\n",
              "\n",
              "  @keyframes spin {\n",
              "    0% {\n",
              "      border-color: transparent;\n",
              "      border-bottom-color: var(--fill-color);\n",
              "      border-left-color: var(--fill-color);\n",
              "    }\n",
              "    20% {\n",
              "      border-color: transparent;\n",
              "      border-left-color: var(--fill-color);\n",
              "      border-top-color: var(--fill-color);\n",
              "    }\n",
              "    30% {\n",
              "      border-color: transparent;\n",
              "      border-left-color: var(--fill-color);\n",
              "      border-top-color: var(--fill-color);\n",
              "      border-right-color: var(--fill-color);\n",
              "    }\n",
              "    40% {\n",
              "      border-color: transparent;\n",
              "      border-right-color: var(--fill-color);\n",
              "      border-top-color: var(--fill-color);\n",
              "    }\n",
              "    60% {\n",
              "      border-color: transparent;\n",
              "      border-right-color: var(--fill-color);\n",
              "    }\n",
              "    80% {\n",
              "      border-color: transparent;\n",
              "      border-right-color: var(--fill-color);\n",
              "      border-bottom-color: var(--fill-color);\n",
              "    }\n",
              "    90% {\n",
              "      border-color: transparent;\n",
              "      border-bottom-color: var(--fill-color);\n",
              "    }\n",
              "  }\n",
              "</style>\n",
              "\n",
              "  <script>\n",
              "    async function quickchart(key) {\n",
              "      const quickchartButtonEl =\n",
              "        document.querySelector('#' + key + ' button');\n",
              "      quickchartButtonEl.disabled = true;  // To prevent multiple clicks.\n",
              "      quickchartButtonEl.classList.add('colab-df-spinner');\n",
              "      try {\n",
              "        const charts = await google.colab.kernel.invokeFunction(\n",
              "            'suggestCharts', [key], {});\n",
              "      } catch (error) {\n",
              "        console.error('Error during call to suggestCharts:', error);\n",
              "      }\n",
              "      quickchartButtonEl.classList.remove('colab-df-spinner');\n",
              "      quickchartButtonEl.classList.add('colab-df-quickchart-complete');\n",
              "    }\n",
              "    (() => {\n",
              "      let quickchartButtonEl =\n",
              "        document.querySelector('#df-0e2fe743-029c-4dd5-aa9f-0d7f01f3f5b2 button');\n",
              "      quickchartButtonEl.style.display =\n",
              "        google.colab.kernel.accessAllowed ? 'block' : 'none';\n",
              "    })();\n",
              "  </script>\n",
              "</div>\n",
              "    </div>\n",
              "  </div>\n"
            ]
          },
          "metadata": {},
          "execution_count": 7
        }
      ]
    },
    {
      "cell_type": "code",
      "source": [
        "df_s = odf.groupby(['Score', '% Upvote']).agg({'Id': 'count'})\n",
        "df_s = df_s.unstack()\n",
        "df_s.columns = df_s.columns.get_level_values(1)\n",
        "fig = plt.figure(figsize=(15,10))\n",
        "\n",
        "sns.heatmap(df_s[df_s.columns[::-1]].T, cmap = \"YlGnBu\", linewidths =.5, annot = True, fmt = 'd', cbar_kws={'label': '# reviews'})\n",
        "plt.yticks(rotation=0)\n",
        "plt.title('How helpful users find among user scores')"
      ],
      "metadata": {
        "colab": {
          "base_uri": "https://localhost:8080/",
          "height": 889
        },
        "id": "W4eelWJp603O",
        "outputId": "2166c1a1-e87e-4409-c04f-ee98f39345c1"
      },
      "execution_count": null,
      "outputs": [
        {
          "output_type": "execute_result",
          "data": {
            "text/plain": [
              "Text(0.5, 1.0, 'How helpful users find among user scores')"
            ]
          },
          "metadata": {},
          "execution_count": 8
        },
        {
          "output_type": "display_data",
          "data": {
            "text/plain": [
              "<Figure size 1500x1000 with 2 Axes>"
            ],
            "image/png": "[encoded data removed]"
          },
          "metadata": {}
        }
      ]
    },
    {
      "cell_type": "markdown",
      "source": [
        "Key message from above:\n",
        "\n",
        "Reviews are skewed towards positive\n",
        "More than half of the reviews are with zero votes\n",
        "Many people agree with score 5 reviews\n",
        "Then we get rid of score 3 reviews(Neutral), and separate the remaining reviews into binary class(1 = positive, 0 = negative):"
      ],
      "metadata": {
        "id": "udYXWQWK-s5J"
      }
    },
    {
      "cell_type": "code",
      "source": [
        "df = odf[odf['Score'] !=3]\n",
        "X = df['Text']\n",
        "y_dict = {1:0, 2:0, 4:1, 5:1}\n",
        "y = df['Score'].map(y_dict)"
      ],
      "metadata": {
        "id": "TrGVyjT9-uXf"
      },
      "execution_count": null,
      "outputs": []
    },
    {
      "cell_type": "markdown",
      "source": [
        "# **Score Prediction**\n",
        "\n",
        "Logistic regression model on word count"
      ],
      "metadata": {
        "id": "6sYy9YCmBCnF"
      }
    },
    {
      "cell_type": "code",
      "source": [
        "c = CountVectorizer(stop_words = 'english')\n",
        "\n",
        "def text_fit(X, y, model,clf_model,coef_show=1):\n",
        "\n",
        "    X_c = model.fit_transform(X)\n",
        "    print('# features: {}'.format(X_c.shape[1]))\n",
        "    X_train, X_test, y_train, y_test = train_test_split(X_c, y, random_state=0)\n",
        "    print('# train records: {}'.format(X_train.shape[0]))\n",
        "    print('# test records: {}'.format(X_test.shape[0]))\n",
        "    clf = clf_model.fit(X_train, y_train)\n",
        "    acc = clf.score(X_test, y_test)\n",
        "    print ('Model Accuracy: {}'.format(acc))\n",
        "\n",
        "    if coef_show == 1:\n",
        "        w = model.get_feature_names_out()\n",
        "        coef = clf.coef_.tolist()[0]\n",
        "        coeff_df = pd.DataFrame({'Word' : w, 'Coefficient' : coef})\n",
        "        coeff_df = coeff_df.sort_values(['Coefficient', 'Word'], ascending=[0, 1])\n",
        "        print('')\n",
        "        print('-Top 20 positive-')\n",
        "        print(coeff_df.head(20).to_string(index=False))\n",
        "        print('')\n",
        "        print('-Top 20 negative-')\n",
        "        print(coeff_df.tail(20).to_string(index=False))\n",
        "\n",
        "\n",
        "text_fit(X, y, c, LogisticRegression())"
      ],
      "metadata": {
        "id": "qiYdEHzVAeDI",
        "colab": {
          "base_uri": "https://localhost:8080/"
        },
        "outputId": "ce4b64d8-e442-424a-e14e-696b34de7267"
      },
      "execution_count": null,
      "outputs": [
        {
          "output_type": "stream",
          "name": "stdout",
          "text": [
            "# features: 114969\n",
            "# train records: 394360\n",
            "# test records: 131454\n"
          ]
        },
        {
          "output_type": "stream",
          "name": "stderr",
          "text": [
            "/usr/local/lib/python3.10/dist-packages/sklearn/linear_model/_logistic.py:458: ConvergenceWarning: lbfgs failed to converge (status=1):\n",
            "STOP: TOTAL NO. of ITERATIONS REACHED LIMIT.\n",
            "\n",
            "Increase the number of iterations (max_iter) or scale the data as shown in:\n",
            "    https://scikit-learn.org/stable/modules/preprocessing.html\n",
            "Please also refer to the documentation for alternative solver options:\n",
            "    https://scikit-learn.org/stable/modules/linear_model.html#logistic-regression\n",
            "  n_iter_i = _check_optimize_result(\n"
          ]
        },
        {
          "output_type": "stream",
          "name": "stdout",
          "text": [
            "Model Accuracy: 0.9357874237375812\n",
            "\n",
            "-Top 20 positive-\n",
            "       Word  Coefficient\n",
            " pleasantly     4.233988\n",
            "   downside     3.126420\n",
            "  addicting     2.959068\n",
            "   drawback     2.670239\n",
            "  skeptical     2.511270\n",
            "     resist     2.379871\n",
            " economical     2.265789\n",
            "       whim     2.236301\n",
            "   soothing     2.218977\n",
            "    easiest     2.206777\n",
            "     hooked     2.174912\n",
            "    welcome     2.084585\n",
            "  delighted     2.079272\n",
            "      meets     1.976601\n",
            "        yay     1.976106\n",
            "wonderfully     1.970862\n",
            "  excellent     1.965659\n",
            "    worries     1.945496\n",
            "exceptional     1.942430\n",
            "     delish     1.933981\n",
            "\n",
            "-Top 20 negative-\n",
            "         Word  Coefficient\n",
            "        ruins    -2.306015\n",
            "       lacked    -2.327670\n",
            "        blech    -2.334804\n",
            "   unfinished    -2.350162\n",
            "   unbearable    -2.356371\n",
            "          ick    -2.419503\n",
            "   overpowers    -2.489050\n",
            "  unappealing    -2.531981\n",
            "  disapointed    -2.558029\n",
            "      defeats    -2.614594\n",
            "   returnable    -2.684543\n",
            "     mediocre    -2.736155\n",
            "       ripoff    -2.843889\n",
            "disappointing    -2.943224\n",
            "  embarrassed    -2.959654\n",
            "        worst    -3.011750\n",
            "    cancelled    -3.122114\n",
            " unacceptable    -3.379374\n",
            "    deceptive    -3.521606\n",
            "  undrinkable    -3.660841\n"
          ]
        }
      ]
    },
    {
      "cell_type": "markdown",
      "source": [
        "Accuracy is around 93.9% - not bad. However we notice that some of those significant coefficient are not meaningful.\n",
        "\n",
        "Let's also look at the base line accuracy (predicting with majority class, in this case positive class):"
      ],
      "metadata": {
        "id": "SaA7v4rtBWTW"
      }
    },
    {
      "cell_type": "code",
      "source": [
        "text_fit(X, y, c, DummyClassifier(),0)"
      ],
      "metadata": {
        "colab": {
          "base_uri": "https://localhost:8080/"
        },
        "id": "xiB3JKXRBYDp",
        "outputId": "aeae940a-df2f-488d-c1a1-3371c7d4fac9"
      },
      "execution_count": null,
      "outputs": [
        {
          "output_type": "stream",
          "name": "stdout",
          "text": [
            "# features: 114969\n",
            "# train records: 394360\n",
            "# test records: 131454\n",
            "Model Accuracy: 0.8437324082949168\n"
          ]
        }
      ]
    },
    {
      "cell_type": "markdown",
      "source": [
        "**Logistic regression model on TFIDF**"
      ],
      "metadata": {
        "id": "wNttrjyaDQdI"
      }
    },
    {
      "cell_type": "code",
      "source": [
        "tfdif = TfidfVectorizer(stop_words = 'english')\n",
        "text_fit(X, y, tfdif, LogisticRegression())"
      ],
      "metadata": {
        "colab": {
          "base_uri": "https://localhost:8080/"
        },
        "id": "F1YTvUDiDMHw",
        "outputId": "37e502a7-fa19-48a4-b17b-abf2f750ccb9"
      },
      "execution_count": null,
      "outputs": [
        {
          "output_type": "stream",
          "name": "stdout",
          "text": [
            "# features: 114969\n",
            "# train records: 394360\n",
            "# test records: 131454\n"
          ]
        },
        {
          "output_type": "stream",
          "name": "stderr",
          "text": [
            "/usr/local/lib/python3.10/dist-packages/sklearn/linear_model/_logistic.py:458: ConvergenceWarning: lbfgs failed to converge (status=1):\n",
            "STOP: TOTAL NO. of ITERATIONS REACHED LIMIT.\n",
            "\n",
            "Increase the number of iterations (max_iter) or scale the data as shown in:\n",
            "    https://scikit-learn.org/stable/modules/preprocessing.html\n",
            "Please also refer to the documentation for alternative solver options:\n",
            "    https://scikit-learn.org/stable/modules/linear_model.html#logistic-regression\n",
            "  n_iter_i = _check_optimize_result(\n"
          ]
        },
        {
          "output_type": "stream",
          "name": "stdout",
          "text": [
            "Model Accuracy: 0.9347528412980967\n",
            "\n",
            "-Top 20 positive-\n",
            "      Word  Coefficient\n",
            "     great    13.829271\n",
            " delicious    12.266400\n",
            "      best    11.950646\n",
            "   perfect    10.603334\n",
            " excellent     9.912412\n",
            "     loves     9.589463\n",
            "    highly     8.900379\n",
            "      love     8.377649\n",
            " wonderful     8.016587\n",
            "   amazing     7.610002\n",
            "pleasantly     7.505516\n",
            "   awesome     7.374907\n",
            "      good     7.331522\n",
            "      nice     7.140911\n",
            "    hooked     7.140227\n",
            "  favorite     6.901615\n",
            "   pleased     6.833933\n",
            "    smooth     6.811193\n",
            "     yummy     6.728316\n",
            " fantastic     6.521717\n",
            "\n",
            "-Top 20 negative-\n",
            "          Word  Coefficient\n",
            "  unacceptable    -5.621037\n",
            "          poor    -5.689809\n",
            "          yuck    -5.885682\n",
            "   undrinkable    -5.934016\n",
            "         worse    -6.123684\n",
            "         stale    -6.125437\n",
            "         bland    -6.378601\n",
            "    disgusting    -6.411666\n",
            "          weak    -6.466382\n",
            "         threw    -6.658506\n",
            "     tasteless    -6.660641\n",
            "        return    -6.753367\n",
            " unfortunately    -7.482973\n",
            "      horrible    -7.829670\n",
            "disappointment    -8.100518\n",
            "         awful    -8.187469\n",
            "  disappointed    -8.548322\n",
            "      terrible    -9.278915\n",
            " disappointing    -9.935597\n",
            "         worst   -11.523687\n"
          ]
        }
      ]
    },
    {
      "cell_type": "markdown",
      "source": [
        "Accuracy is roughly the same - 93.5%. However we notice that significant words make much more sense now, with higher coefficient magnitude as well!"
      ],
      "metadata": {
        "id": "QfHXKfFGDoXg"
      }
    },
    {
      "cell_type": "markdown",
      "source": [
        "**Logistic regression model on TFIDF + ngram**"
      ],
      "metadata": {
        "id": "1DgH5SjvD154"
      }
    },
    {
      "cell_type": "code",
      "source": [
        "tfidf_n = TfidfVectorizer(ngram_range=(1, 2), stop_words = 'english')\n",
        "text_fit(X, y, tfidf_n, LogisticRegression())"
      ],
      "metadata": {
        "id": "iTD37CCEDpZB",
        "colab": {
          "base_uri": "https://localhost:8080/"
        },
        "outputId": "ea51a9fe-cf50-48a6-9b8d-afc5899c0a6d"
      },
      "execution_count": null,
      "outputs": [
        {
          "output_type": "stream",
          "name": "stdout",
          "text": [
            "# features: 3933179\n",
            "# train records: 394360\n",
            "# test records: 131454\n"
          ]
        },
        {
          "output_type": "stream",
          "name": "stderr",
          "text": [
            "/usr/local/lib/python3.10/dist-packages/sklearn/linear_model/_logistic.py:458: ConvergenceWarning: lbfgs failed to converge (status=1):\n",
            "STOP: TOTAL NO. of ITERATIONS REACHED LIMIT.\n",
            "\n",
            "Increase the number of iterations (max_iter) or scale the data as shown in:\n",
            "    https://scikit-learn.org/stable/modules/preprocessing.html\n",
            "Please also refer to the documentation for alternative solver options:\n",
            "    https://scikit-learn.org/stable/modules/linear_model.html#logistic-regression\n",
            "  n_iter_i = _check_optimize_result(\n"
          ]
        },
        {
          "output_type": "stream",
          "name": "stdout",
          "text": [
            "Model Accuracy: 0.9457604941652593\n",
            "\n",
            "-Top 20 positive-\n",
            "     Word  Coefficient\n",
            "    great    20.855565\n",
            "     best    17.937496\n",
            "delicious    17.013618\n",
            "  perfect    14.556857\n",
            "    loves    13.740189\n",
            "     love    13.215917\n",
            "excellent    13.073653\n",
            "     good    11.469407\n",
            "wonderful    11.238944\n",
            "     nice    10.906891\n",
            " favorite    10.679330\n",
            "  amazing     9.604788\n",
            "  awesome     9.298551\n",
            "     easy     9.169952\n",
            "    happy     8.978891\n",
            "  pleased     8.815757\n",
            "   smooth     8.639700\n",
            "    yummy     8.542115\n",
            "    tasty     8.471431\n",
            "   highly     8.434181\n",
            "\n",
            "-Top 20 negative-\n",
            "          Word  Coefficient\n",
            "         maybe    -7.892227\n",
            "        hoping    -8.070309\n",
            "     tasteless    -8.229962\n",
            "         money    -8.262063\n",
            "         worse    -8.301065\n",
            "       thought    -8.488736\n",
            "    disgusting    -8.713986\n",
            "         bland    -9.136684\n",
            "         threw    -9.280872\n",
            "         stale    -9.982482\n",
            "          weak   -10.106826\n",
            "        return   -10.123877\n",
            "disappointment   -10.315521\n",
            " unfortunately   -10.813910\n",
            "      horrible   -11.312401\n",
            "         awful   -11.779131\n",
            "      terrible   -12.967573\n",
            " disappointing   -13.369194\n",
            "  disappointed   -14.665719\n",
            "         worst   -15.093219\n"
          ]
        }
      ]
    },
    {
      "cell_type": "markdown",
      "source": [
        "Adding ngram parameter, we are able to understand phrase like \"not good\". Therefore the accuracy goes up a bit to 94.5%. We can see words like \"tasty, yummy\" in the result."
      ],
      "metadata": {
        "id": "jVR6lF0xFOeK"
      }
    },
    {
      "cell_type": "markdown",
      "source": [
        "# **Upvote prediction**\n",
        "\n",
        "**Data preview**\n",
        "\n",
        "This study is to see whether is pattern found for unpopular(downvote) comments by users(might be used to boost sales). We will be focusing on score 5 reviews, and get rid of comments with neutral votes:*italicized text*"
      ],
      "metadata": {
        "id": "zQYWYOVXnz1c"
      }
    },
    {
      "cell_type": "code",
      "source": [
        "df = df[df['Score'] == 5]\n",
        "df = df[df['% Upvote'].isin(['0-20%', '20-40%', '60-80%', '80-100%'])]\n",
        "df.shape\n",
        "\n",
        "X = df['Text']\n",
        "y_dict = {'0-20%': 0, '20-40%': 0, '60-80%': 1, '80-100%': 1}\n",
        "y = df['% Upvote'].map(y_dict)\n",
        "\n",
        "print('Class distribution:')\n",
        "print(y.value_counts())"
      ],
      "metadata": {
        "id": "wjici8YFFQTJ",
        "colab": {
          "base_uri": "https://localhost:8080/"
        },
        "outputId": "d3e092c0-1109-494a-9ec5-238c3d5eacf8"
      },
      "execution_count": null,
      "outputs": [
        {
          "output_type": "stream",
          "name": "stdout",
          "text": [
            "Class distribution:\n",
            "1.0    151721\n",
            "0.0      2707\n",
            "Name: % Upvote, dtype: int64\n"
          ]
        }
      ]
    },
    {
      "cell_type": "markdown",
      "source": [
        "The traget class is highly skewed to positive (upvotes). Let's resample the data to get balanced data:"
      ],
      "metadata": {
        "id": "NfHemupuoib1"
      }
    },
    {
      "cell_type": "code",
      "source": [
        "df_s = pd.DataFrame(data = [X,y]).T\n",
        "\n",
        "Downvote_records = len(df_s[df_s['% Upvote'] == 0])\n",
        "Downvote_indices = np.array(df_s[df_s['% Upvote'] == 0].index)\n",
        "\n",
        "Upvote_indices = df_s[df_s['% Upvote'] == 1].index\n",
        "\n",
        "random_upvote_indices = np.random.choice(Upvote_indices, Downvote_records, replace = False)\n",
        "random_upvote_indices = np.array(random_upvote_indices)\n",
        "\n",
        "under_sample_indices = np.concatenate([Downvote_indices,random_upvote_indices])\n",
        "\n",
        "under_sample_data = df_s.loc[under_sample_indices, :]\n",
        "X_u = under_sample_data['Text']\n",
        "under_sample_data['% Upvote'] = under_sample_data['% Upvote'].astype(int)\n",
        "y_u = under_sample_data['% Upvote']\n",
        "\n",
        "\n",
        "print(\"Percentage of upvote transactions: \", len(under_sample_data[under_sample_data['% Upvote'] == 1])/len(under_sample_data))\n",
        "print(\"Percentage of downvote transactions: \", len(under_sample_data[under_sample_data['% Upvote'] == 0])/len(under_sample_data))\n",
        "print(\"Total number of records in resampled data: \", len(under_sample_data))"
      ],
      "metadata": {
        "colab": {
          "base_uri": "https://localhost:8080/"
        },
        "id": "zLHCyemUojta",
        "outputId": "5032b052-f145-4cb2-eade-2fad008078f9"
      },
      "execution_count": null,
      "outputs": [
        {
          "output_type": "stream",
          "name": "stdout",
          "text": [
            "Percentage of upvote transactions:  0.5\n",
            "Percentage of downvote transactions:  0.5\n",
            "Total number of records in resampled data:  5414\n"
          ]
        }
      ]
    },
    {
      "cell_type": "markdown",
      "source": [
        "**Logic regression model on word count**"
      ],
      "metadata": {
        "id": "-HBhWSE0o2d2"
      }
    },
    {
      "cell_type": "code",
      "source": [
        "c = CountVectorizer(stop_words = 'english')\n",
        "\n",
        "text_fit(X_u, y_u, c, LogisticRegression())"
      ],
      "metadata": {
        "id": "PdS3k0NEo4OE",
        "outputId": "78e92105-e5e2-46a5-9b5b-8d7f1d07566c",
        "colab": {
          "base_uri": "https://localhost:8080/"
        }
      },
      "execution_count": null,
      "outputs": [
        {
          "output_type": "stream",
          "name": "stdout",
          "text": [
            "# features: 15630\n",
            "# train records: 4060\n",
            "# test records: 1354\n",
            "Model Accuracy: 0.7031019202363368\n",
            "\n",
            "-Top 20 positive-\n",
            "          Word  Coefficient\n",
            "      quantity     1.711828\n",
            "          kona     1.520372\n",
            "      fabulous     1.507107\n",
            "          beat     1.399835\n",
            "          rate     1.179806\n",
            "        plenty     1.169436\n",
            "     allergies     1.108479\n",
            "          chai     1.087268\n",
            "        ginger     1.048022\n",
            "         worth     1.039804\n",
            "         keeps     1.036983\n",
            "        subtle     1.031925\n",
            "         close     1.022330\n",
            "          pops     0.993477\n",
            "         boxed     0.988707\n",
            "         touch     0.978035\n",
            "recommendation     0.977167\n",
            "       special     0.966590\n",
            "          teas     0.966269\n",
            "        repeat     0.965184\n",
            "\n",
            "-Top 20 negative-\n",
            "       Word  Coefficient\n",
            "       yoga    -0.973988\n",
            "      maybe    -0.991080\n",
            "  satisfied    -0.994982\n",
            "   bergamot    -1.014498\n",
            "     joints    -1.017262\n",
            "         18    -1.020590\n",
            "         80    -1.035164\n",
            "      shape    -1.041167\n",
            "    markets    -1.057315\n",
            "traditional    -1.057890\n",
            "     lipton    -1.061216\n",
            "        ate    -1.108750\n",
            "      kashi    -1.115262\n",
            "     choice    -1.127374\n",
            "    comfort    -1.164154\n",
            "     easily    -1.167244\n",
            "      boost    -1.243247\n",
            "   superior    -1.262674\n",
            "   brooklyn    -1.288685\n",
            "     marley    -1.781143\n"
          ]
        },
        {
          "output_type": "stream",
          "name": "stderr",
          "text": [
            "/usr/local/lib/python3.10/dist-packages/sklearn/linear_model/_logistic.py:458: ConvergenceWarning: lbfgs failed to converge (status=1):\n",
            "STOP: TOTAL NO. of ITERATIONS REACHED LIMIT.\n",
            "\n",
            "Increase the number of iterations (max_iter) or scale the data as shown in:\n",
            "    https://scikit-learn.org/stable/modules/preprocessing.html\n",
            "Please also refer to the documentation for alternative solver options:\n",
            "    https://scikit-learn.org/stable/modules/linear_model.html#logistic-regression\n",
            "  n_iter_i = _check_optimize_result(\n"
          ]
        }
      ]
    },
    {
      "cell_type": "markdown",
      "source": [
        "**Logistic regression model on TFIDF + ngram**"
      ],
      "metadata": {
        "id": "sma2KSIupXPn"
      }
    },
    {
      "cell_type": "code",
      "source": [
        "tfidf_n = TfidfVectorizer(ngram_range=(1,2),stop_words = 'english')\n",
        "\n",
        "text_fit(X_u, y_u, tfidf_n, LogisticRegression())"
      ],
      "metadata": {
        "colab": {
          "base_uri": "https://localhost:8080/"
        },
        "id": "qcItc0VepW1F",
        "outputId": "c06c58e6-3540-41c9-966e-762c6c8735d2"
      },
      "execution_count": null,
      "outputs": [
        {
          "output_type": "stream",
          "name": "stdout",
          "text": [
            "# features: 138794\n",
            "# train records: 4060\n",
            "# test records: 1354\n",
            "Model Accuracy: 0.7104874446085672\n",
            "\n",
            "-Top 20 positive-\n",
            "     Word  Coefficient\n",
            "     food     1.593864\n",
            "   flavor     1.541318\n",
            "    chips     1.419305\n",
            "      dog     1.218943\n",
            "    worth     1.217579\n",
            "    blend     1.119342\n",
            "wonderful     1.111773\n",
            "     just     1.093238\n",
            "     salt     1.085150\n",
            "     teas     1.062115\n",
            "    fresh     1.032183\n",
            "   ginger     1.005786\n",
            "       ve     0.950679\n",
            "      tea     0.939138\n",
            "    tried     0.931638\n",
            "     chai     0.904205\n",
            "      mix     0.893444\n",
            "  flavors     0.884180\n",
            "  started     0.882386\n",
            "  chicken     0.866372\n",
            "\n",
            "-Top 20 negative-\n",
            "         Word  Coefficient\n",
            "          pod    -0.828316\n",
            "         good    -0.836143\n",
            "         cans    -0.854713\n",
            "       seller    -0.870867\n",
            "       lipton    -0.872283\n",
            "         yoga    -0.901258\n",
            "product great    -0.918776\n",
            "        wrong    -0.942848\n",
            "        taste    -0.989462\n",
            " great coffee    -0.995981\n",
            "       cereal    -1.070193\n",
            "      service    -1.087818\n",
            "        order    -1.150586\n",
            "       marley    -1.157571\n",
            "         zico    -1.158692\n",
            "         know    -1.169351\n",
            "      product    -1.390325\n",
            "        drink    -1.699059\n",
            "        water    -1.783555\n",
            "           br    -1.990885\n"
          ]
        }
      ]
    },
    {
      "cell_type": "markdown",
      "source": [
        "Similar to count metric, the accuracy isn't high and words not meaningful."
      ],
      "metadata": {
        "id": "PewJouzTwE3O"
      }
    },
    {
      "cell_type": "markdown",
      "source": [
        "** Study on non-context features**\n",
        "\n",
        "Let's look at some examples of upvote and downvote comments:"
      ],
      "metadata": {
        "id": "9qJ0Uc9LwusK"
      }
    },
    {
      "cell_type": "code",
      "source": [
        "#pd.set_option('display.max_colwidth', -1)\n",
        "print('Downvote score 5 comments examples: ')\n",
        "print(under_sample_data[under_sample_data['% Upvote']==0]['Text'].iloc[:100:20])"
      ],
      "metadata": {
        "colab": {
          "base_uri": "https://localhost:8080/"
        },
        "id": "ZF_TQ8SdwL8J",
        "outputId": "f2cc7f2b-f25c-40b9-cef0-157acddcc073"
      },
      "execution_count": null,
      "outputs": [
        {
          "output_type": "stream",
          "name": "stdout",
          "text": [
            "Downvote score 5 comments examples: \n",
            "207      Hard to find the wintergreen smalls [sugar fre...\n",
            "4511     Wonderful, smooth, satisfying decaf coffee wit...\n",
            "7787     My husband is a big coffee drinker, and with a...\n",
            "12072    We love French roast coffee and my husband mus...\n",
            "13671    THIS IS A LOVELY VERY HEALTHY TREE,ALONG WITH ...\n",
            "Name: Text, dtype: object\n"
          ]
        }
      ]
    },
    {
      "cell_type": "markdown",
      "source": [
        "Time to extract some possible features:"
      ],
      "metadata": {
        "id": "XkNl2ZJdxO46"
      }
    },
    {
      "cell_type": "code",
      "source": [
        "under_sample_data['word_count'] = under_sample_data['Text'].apply(lambda x: len(x.split()))\n",
        "under_sample_data['capital_count'] = under_sample_data['Text'].apply(lambda x: sum(1 for c in x if c.isupper()))\n",
        "under_sample_data['question_mark'] = under_sample_data['Text'].apply(lambda x: sum(1 for c in x if c == '?'))\n",
        "under_sample_data['exclamation_mark'] = under_sample_data['Text'].apply(lambda x: sum(1 for c in x if c =='!'))\n",
        "under_sample_data['punctuation'] = under_sample_data['Text'].apply(lambda x: sum(1 for c in x if c in punctuation))\n",
        "\n",
        "print(under_sample_data.groupby('% Upvote').agg({'word_count': 'mean', 'capital_count': 'mean', 'question_mark': 'mean', 'exclamation_mark': 'mean', 'punctuation': 'mean'}).T)\n",
        "\n",
        "X_num = under_sample_data[under_sample_data.columns.difference(['% Upvote', 'Text'])]\n",
        "y_num = under_sample_data['% Upvote']"
      ],
      "metadata": {
        "colab": {
          "base_uri": "https://localhost:8080/"
        },
        "id": "WWJH2yHExRgU",
        "outputId": "6bc7e99f-8ce8-4fd7-97af-7f6a016e923a"
      },
      "execution_count": 18,
      "outputs": [
        {
          "output_type": "stream",
          "name": "stdout",
          "text": [
            "% Upvote                  0          1\n",
            "word_count        83.927226  83.207240\n",
            "capital_count     19.252678  12.951238\n",
            "question_mark      0.180273   0.073513\n",
            "exclamation_mark   0.906169   0.916882\n",
            "punctuation       22.482822  18.037311\n"
          ]
        }
      ]
    },
    {
      "cell_type": "markdown",
      "source": [
        "Now we train the model to predict:"
      ],
      "metadata": {
        "id": "ZbBjwRJ3xhoR"
      }
    },
    {
      "cell_type": "code",
      "source": [
        "X_train, X_test, y_train, y_test = train_test_split(X_num, y_num, random_state=0)\n",
        "\n",
        "clf_lr = LogisticRegression().fit(X_train, y_train)\n",
        "acc_lr = clf_lr.score(X_test, y_test)\n",
        "print('Logistic Regression accuracy: {}'.format(acc_lr))\n",
        "\n",
        "clf_svm = svm.SVC().fit(X_train, y_train)\n",
        "acc_svm = clf_svm.score(X_test, y_test)\n",
        "print('SVM accuracy: {}'.format(acc_svm))"
      ],
      "metadata": {
        "id": "cv_QYRsSxlFD",
        "outputId": "2162377b-22bb-445e-9647-2c8b6e1c4899",
        "colab": {
          "base_uri": "https://localhost:8080/"
        }
      },
      "execution_count": 19,
      "outputs": [
        {
          "output_type": "stream",
          "name": "stdout",
          "text": [
            "Logistic Regression accuracy: 0.5967503692762186\n",
            "SVM accuracy: 0.5797636632200887\n"
          ]
        }
      ]
    }
  ]
}